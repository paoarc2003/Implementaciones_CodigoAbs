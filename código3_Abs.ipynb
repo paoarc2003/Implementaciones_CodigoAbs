{
  "nbformat": 4,
  "nbformat_minor": 0,
  "metadata": {
    "colab": {
      "provenance": []
    },
    "kernelspec": {
      "name": "python3",
      "display_name": "Python 3"
    },
    "language_info": {
      "name": "python"
    }
  },
  "cells": [
    {
      "cell_type": "code",
      "execution_count": 1,
      "metadata": {
        "colab": {
          "base_uri": "https://localhost:8080/"
        },
        "id": "N1zWkNuNVU2s",
        "outputId": "de39b532-70d0-4d8a-94e5-f0b77118c51a"
      },
      "outputs": [
        {
          "output_type": "stream",
          "name": "stdout",
          "text": [
            "Servidor A calcula: y'e'k'y'e'k'Dkeykey\n",
            "Servidor B calcula: y'e'k'y'e'k'Dkeykey\n",
            "🔐 Clave compartida establecida con éxito.\n"
          ]
        }
      ],
      "source": [
        "def invertir(elemento):\n",
        "    \"\"\"Simula la inversión de un elemento\"\"\"\n",
        "    return ''.join([c + \"'\" for c in elemento[::-1]])\n",
        "\n",
        "def conjugado(g, x):\n",
        "    \"\"\"Simula la operación de conjugación: x⁻¹ * g * x\"\"\"\n",
        "    return invertir(x) + g + x\n",
        "\n",
        "# Elemento público (visible para ambos servidores)\n",
        "g = \"D\"  # Representa un dato público en el grupo\n",
        "\n",
        "# Claves privadas iguales, para asegurar que ab = ba\n",
        "a = \"key\"  # Servidor A\n",
        "b = \"key\"  # Servidor B\n",
        "\n",
        "# Cálculo de claves públicas\n",
        "ga = conjugado(g, a)  # Servidor A envía esto a B\n",
        "gb = conjugado(g, b)  # Servidor B envía esto a A\n",
        "\n",
        "# Cada servidor calcula la clave compartida\n",
        "clave_A = conjugado(gb, a)\n",
        "clave_B = conjugado(ga, b)\n",
        "\n",
        "# Mostrar resultados\n",
        "print(\"Servidor A calcula:\", clave_A)\n",
        "print(\"Servidor B calcula:\", clave_B)\n",
        "\n",
        "if clave_A == clave_B:\n",
        "    print(\"🔐 Clave compartida establecida con éxito.\")\n",
        "else:\n",
        "    print(\"⚠️ Error: las claves no coinciden.\")"
      ]
    }
  ]
}