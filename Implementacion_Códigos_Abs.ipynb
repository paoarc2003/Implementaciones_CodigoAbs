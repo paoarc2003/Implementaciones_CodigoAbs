{
  "nbformat": 4,
  "nbformat_minor": 0,
  "metadata": {
    "colab": {
      "provenance": []
    },
    "kernelspec": {
      "name": "python3",
      "display_name": "Python 3"
    },
    "language_info": {
      "name": "python"
    }
  },
  "cells": [
    {
      "cell_type": "code",
      "execution_count": 1,
      "metadata": {
        "colab": {
          "base_uri": "https://localhost:8080/"
        },
        "id": "u2z9x6DnlhB-",
        "outputId": "4aa74f32-7264-4634-9dbd-9cb969172296"
      },
      "outputs": [
        {
          "output_type": "stream",
          "name": "stdout",
          "text": [
            "Clave compartida de Alice: 13\n",
            "Clave compartida de Bob:   13\n",
            "Las claves coinciden, el protocolo fue exitoso.\n"
          ]
        }
      ],
      "source": [
        "import random  # Importa la biblioteca para generar números aleatorios\n",
        "\n",
        "def diffie_hellman_basic(p, g):\n",
        "    \"\"\"\n",
        "    Implementación básica del protocolo de Diffie-Hellman sobre el grupo cíclico Zp*.\n",
        "\n",
        "    Args:\n",
        "        p: Un número primo que define el grupo Zp*. Zp* es el conjunto de enteros\n",
        "           desde 1 hasta p-1 que son coprimos con p.\n",
        "        g: Un generador del grupo Zp*. Un generador es un elemento que puede\n",
        "           generar todos los demás elementos del grupo mediante la exponenciación.\n",
        "\n",
        "    Returns:\n",
        "        Una tupla que contiene la clave compartida calculada por Alice y la clave\n",
        "        compartida calculada por Bob. Estas claves deben ser iguales.\n",
        "    \"\"\"\n",
        "\n",
        "    # Paso 1: Alice elige un secreto aleatorio 'a'\n",
        "    a = random.randint(2, p - 2)  # 'a' es la clave privada de Alice.\n",
        "                                 # Se elige un número aleatorio entre 2 y p-2 (inclusive).\n",
        "    A = pow(g, a, p)             # Alice calcula su clave pública 'A' como g^a mod p.\n",
        "                                 # La función pow() realiza la exponenciación modular.\n",
        "\n",
        "    # Paso 2: Bob elige un secreto aleatorio 'b'\n",
        "    b = random.randint(2, p - 2)  # 'b' es la clave privada de Bob.\n",
        "    B = pow(g, b, p)             # Bob calcula su clave pública 'B' como g^b mod p.\n",
        "\n",
        "    # Paso 3: Intercambio de claves públicas (simulado)\n",
        "    # En un escenario real, Alice enviaría 'A' a Bob y Bob enviaría 'B' a Alice.\n",
        "    # Aquí, simulamos el intercambio.\n",
        "\n",
        "    # Paso 4: Cálculo de la clave compartida\n",
        "    # Alice calcula la clave compartida como B^a mod p.\n",
        "    clave_compartida_alice = pow(B, a, p)\n",
        "    # Bob calcula la clave compartida como A^b mod p.\n",
        "    clave_compartida_bob   = pow(A, b, p)\n",
        "\n",
        "    return clave_compartida_alice, clave_compartida_bob\n",
        "\n",
        "if __name__ == \"__main__\":\n",
        "    # Este bloque de código se ejecuta solo si el script se ejecuta directamente\n",
        "    # (no si se importa como un módulo).\n",
        "\n",
        "    # Parámetros públicos acordados por Alice y Bob\n",
        "    p = 97  # Un número primo. En la práctica, 'p' debería ser un primo mucho mayor\n",
        "            # para garantizar la seguridad.\n",
        "    g = 5   # Un generador de Zp*. No todos los números son generadores.\n",
        "            # Encontrar un generador puede requerir cálculos adicionales.\n",
        "\n",
        "    # Ejecutar el protocolo Diffie-Hellman\n",
        "    clave_alice, clave_bob = diffie_hellman_basic(p, g)\n",
        "\n",
        "    # Imprimir las claves compartidas\n",
        "    print(f\"Clave compartida de Alice: {clave_alice}\")\n",
        "    print(f\"Clave compartida de Bob:   {clave_bob}\")\n",
        "\n",
        "    # Verificar que las claves sean iguales\n",
        "    assert clave_alice == clave_bob, \"Las claves no coinciden!\"\n",
        "    print(\"Las claves coinciden, el protocolo fue exitoso.\")"
      ]
    }
  ]
}